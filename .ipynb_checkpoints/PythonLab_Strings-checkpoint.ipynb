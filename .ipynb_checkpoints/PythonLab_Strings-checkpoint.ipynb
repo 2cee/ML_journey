{
 "cells": [
  {
   "cell_type": "markdown",
   "id": "33ed3790-a8a1-434c-90b5-6965f02cf931",
   "metadata": {},
   "source": [
    "# Say Hello! to the world in Python\n",
    "When learning a new programming language, it is customary to start with an \"hello world\" example. As simple as it is, this one line of code will ensure that we know how to print a string in output and how to execute code within cells in a notebook"
   ]
  },
  {
   "cell_type": "code",
   "execution_count": 21,
   "id": "44a26836-fa66-42b7-9b06-e79b4e11d0fd",
   "metadata": {},
   "outputs": [
    {
     "name": "stdout",
     "output_type": "stream",
     "text": [
      "Hello world!\n"
     ]
    }
   ],
   "source": [
    "print(\"Hello world!\") #my first python output"
   ]
  },
  {
   "cell_type": "markdown",
   "id": "00e437bb-c2bc-4edc-98db-93f48b9d0ceb",
   "metadata": {},
   "source": [
    "## What version of Python are we using?\n",
    "There are two popular versions of the Python programming language in use today: Python 2 and Python 3. The Python community has decided to move on from Python 2 to Python 3, and many popular libraries have announced that they will no longer support Python 2.\n",
    "\n",
    "sys is a built-in module that contains many system-specific parameters and functions, including the Python version in use. Before using it, we must explictly import it."
   ]
  },
  {
   "cell_type": "code",
   "execution_count": 8,
   "id": "4bd59676-5003-484a-9dda-839331b4791b",
   "metadata": {},
   "outputs": [
    {
     "data": {
      "text/plain": [
       "'3.8.8 (default, Apr 13 2021, 15:08:03) [MSC v.1916 64 bit (AMD64)]'"
      ]
     },
     "execution_count": 8,
     "metadata": {},
     "output_type": "execute_result"
    }
   ],
   "source": [
    "import sys\n",
    "sys.version"
   ]
  },
  {
   "cell_type": "code",
   "execution_count": 14,
   "id": "6c1f66f5-5881-4556-bbfd-51be937f2826",
   "metadata": {},
   "outputs": [
    {
     "data": {
      "text/plain": [
       "'7'"
      ]
     },
     "execution_count": 14,
     "metadata": {},
     "output_type": "execute_result"
    }
   ],
   "source": [
    "str(7)"
   ]
  },
  {
   "cell_type": "markdown",
   "id": "9b5767ac-41b8-41a6-b214-f76b3faad880",
   "metadata": {},
   "source": [
    "## Working with strings in Python"
   ]
  },
  {
   "cell_type": "code",
   "execution_count": 14,
   "id": "4f17cd95-1386-4dad-b6c2-0f270930efde",
   "metadata": {},
   "outputs": [
    {
     "name": "stdout",
     "output_type": "stream",
     "text": [
      "Michael Jackson\n"
     ]
    }
   ],
   "source": [
    "name = \"Michael Jackson\"\n",
    "print(name)"
   ]
  },
  {
   "cell_type": "code",
   "execution_count": 2,
   "id": "ff5de334-5761-4853-bfc3-e781a846b38c",
   "metadata": {},
   "outputs": [
    {
     "data": {
      "text/plain": [
       "'i'"
      ]
     },
     "execution_count": 2,
     "metadata": {},
     "output_type": "execute_result"
    }
   ],
   "source": [
    "name[1]"
   ]
  },
  {
   "cell_type": "code",
   "execution_count": 5,
   "id": "4317153d-db82-40f2-b548-9a6cb290460e",
   "metadata": {},
   "outputs": [
    {
     "name": "stdout",
     "output_type": "stream",
     "text": [
      "n\n"
     ]
    }
   ],
   "source": [
    "print(name[-1])"
   ]
  },
  {
   "cell_type": "code",
   "execution_count": 4,
   "id": "cad53d99-fe26-43ce-9f63-c3687346d93c",
   "metadata": {},
   "outputs": [
    {
     "name": "stdout",
     "output_type": "stream",
     "text": [
      "M\n"
     ]
    }
   ],
   "source": [
    "print(name[0])"
   ]
  },
  {
   "cell_type": "code",
   "execution_count": 6,
   "id": "81d150cc-cbdd-4a45-885b-01a5d04d18c8",
   "metadata": {},
   "outputs": [
    {
     "data": {
      "text/plain": [
       "15"
      ]
     },
     "execution_count": 6,
     "metadata": {},
     "output_type": "execute_result"
    }
   ],
   "source": [
    "len(name)   #finds the number of characters in the string"
   ]
  },
  {
   "cell_type": "markdown",
   "id": "0648f0f7-5bd8-4a86-b353-489e0c24ad8f",
   "metadata": {},
   "source": [
    "### Slicing\n",
    "We can obtain multiple characters from a string using slicing, we can obtain the 0 to 4th and 8th to the 12th element:"
   ]
  },
  {
   "cell_type": "code",
   "execution_count": 9,
   "id": "7f58c5e9-e3a4-490b-977c-6a81f49ff6b6",
   "metadata": {},
   "outputs": [
    {
     "name": "stdout",
     "output_type": "stream",
     "text": [
      "Mich\n"
     ]
    }
   ],
   "source": [
    "name = \"Michael Jackson\"\n",
    "print(name[0:4]) # prints out the 1st 4 elements of the string"
   ]
  },
  {
   "cell_type": "code",
   "execution_count": 12,
   "id": "330ef858-986b-46f8-a1ef-2cd3a665122a",
   "metadata": {},
   "outputs": [
    {
     "name": "stdout",
     "output_type": "stream",
     "text": [
      "Michael Jackson\n"
     ]
    }
   ],
   "source": [
    "print(name) "
   ]
  },
  {
   "cell_type": "code",
   "execution_count": 11,
   "id": "af2eb7c4-a24f-4746-ad79-ef165c6341a1",
   "metadata": {},
   "outputs": [
    {
     "name": "stdout",
     "output_type": "stream",
     "text": [
      "McalJcsn\n"
     ]
    }
   ],
   "source": [
    "print(name[::2]) # prints out every second element in the string starting from the 1st element"
   ]
  },
  {
   "cell_type": "markdown",
   "id": "32fb9c50-f700-4164-8ad1-2b7934b9a91e",
   "metadata": {},
   "source": [
    "### String concatenation\n",
    "We can concatenate or combine strings by using the addition symbols, and the result is a new string that is a combination of both:"
   ]
  },
  {
   "cell_type": "code",
   "execution_count": 15,
   "id": "ce6434f8-d14e-489b-8730-a03385c992ae",
   "metadata": {},
   "outputs": [
    {
     "name": "stdout",
     "output_type": "stream",
     "text": [
      "Michael Jackson is the best!\n",
      "12\n"
     ]
    }
   ],
   "source": [
    "b = name + \" is the best!\"\n",
    "print(b)\n",
    "x = \"1\"\n",
    "y = \"2\"\n",
    "z = x + y\n",
    "print(z)"
   ]
  },
  {
   "cell_type": "code",
   "execution_count": 1,
   "id": "0ba264c3-3eeb-4f83-96a8-380483fa38b4",
   "metadata": {},
   "outputs": [
    {
     "name": "stdout",
     "output_type": "stream",
     "text": [
      " Mike is \n",
      " the best\n"
     ]
    }
   ],
   "source": [
    "print(\" Mike is \\n the best\")"
   ]
  },
  {
   "cell_type": "code",
   "execution_count": 2,
   "id": "10388754-658e-4f4a-8283-a207e62ae778",
   "metadata": {},
   "outputs": [
    {
     "name": "stdout",
     "output_type": "stream",
     "text": [
      " Michael Jackson \t is the best\n"
     ]
    }
   ],
   "source": [
    "# Tab escape sequence\n",
    "\n",
    "print(\" Michael Jackson \\t is the best\")"
   ]
  },
  {
   "cell_type": "code",
   "execution_count": 4,
   "id": "cc1ac31a-936b-4d12-ad7e-1b819b91d0bc",
   "metadata": {},
   "outputs": [
    {
     "name": "stdout",
     "output_type": "stream",
     "text": [
      " Michael Jackson \\ is the best\n",
      " Michael Jackson \\ is the best\n"
     ]
    }
   ],
   "source": [
    "# Include backslash in string\n",
    "\n",
    "print(\" Michael Jackson \\ is the best\")  #OR\n",
    "print(\" Michael Jackson \\\\ is the best\")"
   ]
  },
  {
   "cell_type": "code",
   "execution_count": 17,
   "id": "6c84b1c4-90a0-4675-8c62-3129cdd23841",
   "metadata": {},
   "outputs": [
    {
     "name": "stdout",
     "output_type": "stream",
     "text": [
      " Michael Jackson \\ is the best\n"
     ]
    }
   ],
   "source": [
    "# r will tell python that string will display as raw string\n",
    "print(r\" Michael Jackson \\ is the best\")"
   ]
  },
  {
   "cell_type": "code",
   "execution_count": 19,
   "id": "907695cb-fc94-4fba-be3a-25ee407f3722",
   "metadata": {},
   "outputs": [
    {
     "name": "stdout",
     "output_type": "stream",
     "text": [
      "\\ \n"
     ]
    }
   ],
   "source": [
    "print(r\"\\ \")"
   ]
  },
  {
   "cell_type": "markdown",
   "id": "cfb99a96-b7e6-4db3-b0da-a35e68ea5412",
   "metadata": {},
   "source": [
    "### String Operations\n",
    "There are many string operation methods in Python that can be used to manipulate the data. We are going to use some basic string operations on the data.\n",
    "\n",
    "Let's try with the method upper; this method converts lower case characters to upper case characters:"
   ]
  },
  {
   "cell_type": "code",
   "execution_count": 6,
   "id": "d19171ee-2557-41ec-8cc2-9d39cfc5b995",
   "metadata": {},
   "outputs": [
    {
     "name": "stdout",
     "output_type": "stream",
     "text": [
      "before upper: Liverpool will be 2021/22 champions of europe\n",
      "after upper: LIVERPOOL WILL BE 2021/22 CHAMPIONS OF EUROPE\n"
     ]
    }
   ],
   "source": [
    "#convert all characters in string to upper case\n",
    "a = \"Liverpool will be 2021/22 champions of europe\"\n",
    "print(\"before upper:\", a)\n",
    "b = a.upper()\n",
    "print(\"after upper:\", b)"
   ]
  },
  {
   "cell_type": "code",
   "execution_count": 8,
   "id": "3face287-8459-42c4-bfb6-69663050b512",
   "metadata": {},
   "outputs": [
    {
     "name": "stdout",
     "output_type": "stream",
     "text": [
      "Chelsea are currect champions of Europe!\n"
     ]
    }
   ],
   "source": [
    "#Replace the old substring with the new target substring\n",
    "a = \"Liverpool are currect champions of Europe!\"\n",
    "b = a.replace(\"Liverpool\", \"Chelsea\")\n",
    "print(b)"
   ]
  },
  {
   "cell_type": "code",
   "execution_count": 12,
   "id": "278aed91-8aa2-4483-9afa-1177d355d205",
   "metadata": {},
   "outputs": [
    {
     "name": "stdout",
     "output_type": "stream",
     "text": [
      "5\n",
      "pool\n",
      "23\n",
      "-1\n"
     ]
    }
   ],
   "source": [
    "# Find the substring in the string. Only the index of the 1st element will be returned in the output\n",
    "a = \"Liverpool Football Club\"\n",
    "b = a.find(\"pool\")\n",
    "print(b)\n",
    "c = a[5:9] #indexing\n",
    "print(c)\n",
    "d = len(a) # length of string\n",
    "print(d)\n",
    "e = a.find(\"villa\") # if substring cannot be found in string then output is -1\n",
    "print(e)"
   ]
  },
  {
   "cell_type": "code",
   "execution_count": null,
   "id": "08cb99f2-9c6b-4d9c-9447-7ee3f18a067a",
   "metadata": {},
   "outputs": [],
   "source": []
  }
 ],
 "metadata": {
  "kernelspec": {
   "display_name": "Python 3",
   "language": "python",
   "name": "python3"
  },
  "language_info": {
   "codemirror_mode": {
    "name": "ipython",
    "version": 3
   },
   "file_extension": ".py",
   "mimetype": "text/x-python",
   "name": "python",
   "nbconvert_exporter": "python",
   "pygments_lexer": "ipython3",
   "version": "3.8.8"
  }
 },
 "nbformat": 4,
 "nbformat_minor": 5
}

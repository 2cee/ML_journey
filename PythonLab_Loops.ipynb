{
 "cells": [
  {
   "cell_type": "markdown",
   "id": "113ecefe-3ea1-47d2-8117-5ee6ae24fb0b",
   "metadata": {},
   "source": [
    "## Loops in Python\n",
    "Sometimes, we might want to repeat a given operation many times. Repeated executions like this are performed by loops. We will look at two types of loops, <code>for loops</code> and <code>while loops</code>."
   ]
  },
  {
   "cell_type": "code",
   "execution_count": 1,
   "id": "c85ca1b4-e527-4aa0-9e6b-1a7386f712fe",
   "metadata": {},
   "outputs": [
    {
     "data": {
      "text/plain": [
       "range(0, 3)"
      ]
     },
     "execution_count": 1,
     "metadata": {},
     "output_type": "execute_result"
    }
   ],
   "source": [
    "# The range function\n",
    "range(3)"
   ]
  },
  {
   "cell_type": "markdown",
   "id": "55feb15d-ec75-42d7-841e-496afe751f74",
   "metadata": {},
   "source": [
    "### The for loop\n"
   ]
  },
  {
   "cell_type": "code",
   "execution_count": 2,
   "id": "bcc76a23-8e73-4369-b073-56b032f8c1c9",
   "metadata": {},
   "outputs": [
    {
     "name": "stdout",
     "output_type": "stream",
     "text": [
      "1982\n",
      "1980\n",
      "1973\n"
     ]
    }
   ],
   "source": [
    "# For loop example\n",
    "dates = [1982, 1980, 1973]\n",
    "N = len(dates)\n",
    "for i in range(N):\n",
    "    print(dates[i])\n"
   ]
  },
  {
   "cell_type": "code",
   "execution_count": 3,
   "id": "991c2d16-ff4e-4e4b-9c2a-2d039d27ac8f",
   "metadata": {},
   "outputs": [
    {
     "name": "stdout",
     "output_type": "stream",
     "text": [
      "0\n",
      "1\n",
      "2\n",
      "3\n",
      "4\n",
      "5\n",
      "6\n",
      "7\n"
     ]
    }
   ],
   "source": [
    "for i in range(0, 8):\n",
    "    print(i)"
   ]
  },
  {
   "cell_type": "code",
   "execution_count": 4,
   "id": "49a3371b-d609-4835-907a-41c332c9f304",
   "metadata": {},
   "outputs": [
    {
     "name": "stdout",
     "output_type": "stream",
     "text": [
      "1982\n",
      "1980\n",
      "1973\n"
     ]
    }
   ],
   "source": [
    "for year in dates:\n",
    "    print(year)"
   ]
  },
  {
   "cell_type": "code",
   "execution_count": 10,
   "id": "54aa4ac7-824c-4d2c-a6d3-d2c79565d7f8",
   "metadata": {},
   "outputs": [
    {
     "name": "stdout",
     "output_type": "stream",
     "text": [
      "Before square 0 is red\n",
      "After square 0 is white\n",
      "Before square 1 is yellow\n",
      "After square 1 is white\n",
      "Before square 2 is green\n",
      "After square 2 is white\n",
      "Before square 3 is purple\n",
      "After square 3 is white\n",
      "Before square 4 is blue\n",
      "After square 4 is white\n"
     ]
    }
   ],
   "source": [
    "# using the for loop to change the elements in the list\n",
    "squares =['red', 'yellow', 'green', 'purple', 'blue']\n",
    "for i in range(0,5):\n",
    "    print(\"Before square\", i, \"is\", squares[i])\n",
    "    squares[i] = \"white\"\n",
    "    print(\"After square\", i, \"is\", squares[i])"
   ]
  },
  {
   "cell_type": "code",
   "execution_count": 14,
   "id": "0976f7b5-9b19-4768-a413-117279210e7e",
   "metadata": {},
   "outputs": [
    {
     "name": "stdout",
     "output_type": "stream",
     "text": [
      "0 red\n",
      "1 yellow\n",
      "2 green\n",
      "3 purple\n",
      "4 blue\n"
     ]
    }
   ],
   "source": [
    "# loop through the list and iterate on both index and value\n",
    "squares =['red', 'yellow', 'green', 'purple', 'blue']\n",
    "for i, square in enumerate(squares):\n",
    "    print(i,square)"
   ]
  },
  {
   "cell_type": "markdown",
   "id": "34e586c1-bb5b-403f-9a41-3bb1882a2564",
   "metadata": {},
   "source": [
    "### While loop\n",
    "The **while loop** exists as a tool for repeated execution based on a condition. The code block will keep being executed until the given logical condition returns a **False** boolean value."
   ]
  },
  {
   "cell_type": "code",
   "execution_count": 21,
   "id": "4236817d-d70d-4ef5-a421-372ff0c20468",
   "metadata": {},
   "outputs": [
    {
     "name": "stdout",
     "output_type": "stream",
     "text": [
      "1982\n",
      "1980\n",
      "It took 2 iterations to exit the loop\n"
     ]
    }
   ],
   "source": [
    "# Let's say we want to iterate through list dates and stop at 1973, then print out the number of iterations:\n",
    "dates = [1982, 1980, 1973, 2000]\n",
    "i = 0\n",
    "year = dates[0]\n",
    "while (year != 1973):\n",
    "    print(year)\n",
    "    i = i + 1\n",
    "    year = dates[i]\n",
    "    \n",
    "print(\"It took\", i ,\"iterations to exit the loop\")\n"
   ]
  },
  {
   "cell_type": "markdown",
   "id": "e14960ef-c0bd-4b7d-89a9-5d64c6f78260",
   "metadata": {},
   "source": [
    "### Exercise"
   ]
  },
  {
   "cell_type": "markdown",
   "id": "0daf516d-f548-4bed-a27f-0fed0fdea8e1",
   "metadata": {},
   "source": [
    "1. Write a for loop that prints out all the element between -5 and 5 using the range function"
   ]
  },
  {
   "cell_type": "code",
   "execution_count": 24,
   "id": "50e69ded-901b-45d5-9478-0c1af5c74327",
   "metadata": {},
   "outputs": [
    {
     "name": "stdout",
     "output_type": "stream",
     "text": [
      "-4\n",
      "-3\n",
      "-2\n",
      "-1\n",
      "0\n",
      "1\n",
      "2\n",
      "3\n",
      "4\n"
     ]
    }
   ],
   "source": [
    "for i in range(-4,5):\n",
    "    print(i)\n",
    "    "
   ]
  },
  {
   "cell_type": "markdown",
   "id": "ee780e92-3a38-406c-af94-ed9d63cfe7de",
   "metadata": {},
   "source": [
    "2. Print the elements of the following list:<code> Genres=[ 'rock', 'R&B', 'Soundtrack', 'R&B', 'soul', 'pop']</code> Make sure you follow Python conventions."
   ]
  },
  {
   "cell_type": "code",
   "execution_count": 27,
   "id": "202d6a03-a883-4902-aa7f-e3106ed95747",
   "metadata": {},
   "outputs": [
    {
     "name": "stdout",
     "output_type": "stream",
     "text": [
      "rock\n",
      "R&B\n",
      "Soundtrack\n",
      "R&B\n",
      "soul\n",
      "pop\n"
     ]
    }
   ],
   "source": [
    "Genres = ['rock', 'R&B', 'Soundtrack', 'R&B', 'soul', 'pop']\n",
    "for genre in Genres:\n",
    "    print(genre)"
   ]
  },
  {
   "cell_type": "markdown",
   "id": "930ab4fd-22a0-4efc-adc2-84767727832f",
   "metadata": {},
   "source": [
    "3. Write a while loop to display the values of the Rating of an album playlist stored in the list **PlayListRatings**. If the score is less than 6, exit the loop. The list **PlayListRatings** is given by: <code>PlayListRatings = [10, 9.5, 10, 8, 7.5, 5, 10, 10]</code>"
   ]
  },
  {
   "cell_type": "code",
   "execution_count": 44,
   "id": "4fd3dae8-b154-4200-8f21-253f51b27391",
   "metadata": {},
   "outputs": [
    {
     "name": "stdout",
     "output_type": "stream",
     "text": [
      "10\n",
      "9.5\n",
      "10\n",
      "8\n",
      "7.5\n",
      "\n",
      "It took 5 iterations to exit the loop!\n"
     ]
    }
   ],
   "source": [
    "PlayListRatings = [10, 9.5, 10, 8, 7.5, 5, 10, 10]\n",
    "i = 0\n",
    "while (i < len(PlayListRatings) and PlayListRatings[i] > 6):\n",
    "    print(PlayListRatings[i])\n",
    "    i = i + 1 \n",
    "print(\"\")    \n",
    "print(\"It took\", i, \"iterations to exit the loop!\")   "
   ]
  },
  {
   "cell_type": "markdown",
   "id": "233c00b8-f760-44e7-918e-354d502308c3",
   "metadata": {},
   "source": [
    "4. Write a **while loop** to copy the strings <code>'orange'</code> of the list **squares** to the list **new_squares**. Stop and exit the loop if the value on the list is not <code>'orange'</code>"
   ]
  },
  {
   "cell_type": "code",
   "execution_count": 52,
   "id": "3e3585c8-6be3-454f-8e22-a0ead3b8fffe",
   "metadata": {},
   "outputs": [
    {
     "name": "stdout",
     "output_type": "stream",
     "text": [
      "['orange', 'orange']\n"
     ]
    }
   ],
   "source": [
    "squares = ['orange', 'orange', 'purple', 'blue ', 'orange']\n",
    "new_squares = []\n",
    "i = 0\n",
    "while (i < len(squares) and squares[i] == 'orange'):\n",
    "    new_squares.append(squares[i])\n",
    "    i = i + 1\n",
    "print(new_squares)"
   ]
  },
  {
   "cell_type": "code",
   "execution_count": null,
   "id": "e274ab14-e492-49fe-930f-ede113b4220b",
   "metadata": {},
   "outputs": [],
   "source": []
  }
 ],
 "metadata": {
  "kernelspec": {
   "display_name": "Python 3",
   "language": "python",
   "name": "python3"
  },
  "language_info": {
   "codemirror_mode": {
    "name": "ipython",
    "version": 3
   },
   "file_extension": ".py",
   "mimetype": "text/x-python",
   "name": "python",
   "nbconvert_exporter": "python",
   "pygments_lexer": "ipython3",
   "version": "3.8.8"
  }
 },
 "nbformat": 4,
 "nbformat_minor": 5
}

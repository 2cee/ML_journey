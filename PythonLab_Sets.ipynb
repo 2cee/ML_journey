{
 "cells": [
  {
   "cell_type": "markdown",
   "id": "c1506e45-a570-469d-bbeb-b141501abc80",
   "metadata": {},
   "source": [
    "# Sets\n",
    "A set is a unique collection of objects in Python. You can denote a set with a pair of curly brackets {}. Python will automatically remove duplicate items"
   ]
  },
  {
   "cell_type": "code",
   "execution_count": 1,
   "id": "df64bf4d-8cc4-42a9-93ec-707283440b73",
   "metadata": {},
   "outputs": [
    {
     "data": {
      "text/plain": [
       "{'R&B', 'disco', 'hard rock', 'pop', 'rock', 'soul'}"
      ]
     },
     "execution_count": 1,
     "metadata": {},
     "output_type": "execute_result"
    }
   ],
   "source": [
    "# Create set\n",
    "set1 = {\"pop\", \"rock\", \"soul\", \"hard rock\", \"rock\", \"R&B\", \"rock\", \"disco\"}\n",
    "set1"
   ]
  },
  {
   "cell_type": "code",
   "execution_count": 5,
   "id": "97098937-d0ec-43ce-b79d-15a7226e6742",
   "metadata": {},
   "outputs": [
    {
     "data": {
      "text/plain": [
       "{'00:42:19',\n",
       " 10.0,\n",
       " 1982,\n",
       " '30-Nov-82',\n",
       " 46.0,\n",
       " 65,\n",
       " 'Michael Jackson',\n",
       " None,\n",
       " 'Pop, Rock, R&B',\n",
       " 'Thriller'}"
      ]
     },
     "execution_count": 5,
     "metadata": {},
     "output_type": "execute_result"
    }
   ],
   "source": [
    "# convert set to list\n",
    "album_list = [ \"Michael Jackson\", \"Thriller\", 1982, \"00:42:19\",\n",
    "              \"Pop, Rock, R&B\", 46.0, 65, \"30-Nov-82\", None, 10.0]\n",
    "album_set = set(album_list)\n",
    "album_set"
   ]
  },
  {
   "cell_type": "markdown",
   "id": "09aae4d1-31dd-4b2f-88d6-c39407cd8089",
   "metadata": {},
   "source": [
    "## Set operations"
   ]
  },
  {
   "cell_type": "code",
   "execution_count": 6,
   "id": "2767b21d-dfc7-4722-bd59-59f96447b731",
   "metadata": {},
   "outputs": [
    {
     "data": {
      "text/plain": [
       "{'AC/DC', 'Back in Black', 'Thriller'}"
      ]
     },
     "execution_count": 6,
     "metadata": {},
     "output_type": "execute_result"
    }
   ],
   "source": [
    "A = set([\"Thriller\", \"Back in Black\", \"AC/DC\"])\n",
    "A"
   ]
  },
  {
   "cell_type": "code",
   "execution_count": 9,
   "id": "1f1b7dbd-1b8a-46bc-9101-564b3699625b",
   "metadata": {},
   "outputs": [
    {
     "data": {
      "text/plain": [
       "{'AC/DC', 'Back in Black', 'NSYNC', 'Thriller'}"
      ]
     },
     "execution_count": 9,
     "metadata": {},
     "output_type": "execute_result"
    }
   ],
   "source": [
    "# we can add an element to a set using the add() method. If we add the same element twice, only one will be added as set have no duplicates\n",
    "A.add(\"NSYNC\")\n",
    "A"
   ]
  },
  {
   "cell_type": "code",
   "execution_count": 10,
   "id": "48322c36-277a-4af0-a8fd-c8f881893e1b",
   "metadata": {},
   "outputs": [
    {
     "data": {
      "text/plain": [
       "{'AC/DC', 'Back in Black', 'Thriller'}"
      ]
     },
     "execution_count": 10,
     "metadata": {},
     "output_type": "execute_result"
    }
   ],
   "source": [
    "# remove element from set\n",
    "A.remove(\"NSYNC\")\n",
    "A"
   ]
  },
  {
   "cell_type": "code",
   "execution_count": 11,
   "id": "0fc0b5a4-cc81-4a01-9012-d7d7c242f3a3",
   "metadata": {},
   "outputs": [
    {
     "data": {
      "text/plain": [
       "True"
      ]
     },
     "execution_count": 11,
     "metadata": {},
     "output_type": "execute_result"
    }
   ],
   "source": [
    "# we can verify if the element is in the set using the in command\n",
    "\"AC/DC\" in A"
   ]
  },
  {
   "cell_type": "markdown",
   "id": "4c26f251-0f8f-4c1d-94dd-8aaae079278a",
   "metadata": {},
   "source": [
    "### Set logic operations\n",
    "With sets you can check the difference between sets, as well as the symmetric difference, intersection, and union"
   ]
  },
  {
   "cell_type": "code",
   "execution_count": 36,
   "id": "8d4dcf1d-dff0-4b6c-9098-84fc085681c2",
   "metadata": {},
   "outputs": [
    {
     "data": {
      "text/plain": [
       "({'AC/DC', 'Back in Black', 'Thriller'},\n",
       " {'AC/DC', 'Back in Black', 'The Dark Side of the Moon'})"
      ]
     },
     "execution_count": 36,
     "metadata": {},
     "output_type": "execute_result"
    }
   ],
   "source": [
    "# sample sets\n",
    "album_set1 = set([\"Thriller\", \"Back in Black\", \"AC/DC\"])\n",
    "album_set2 = set([\"The Dark Side of the Moon\", \"Back in Black\", \"AC/DC\"])\n",
    "album_set1, album_set2"
   ]
  },
  {
   "cell_type": "code",
   "execution_count": 16,
   "id": "78e7bce2-f8ce-4e06-8661-66af9e7c8ba2",
   "metadata": {},
   "outputs": [
    {
     "data": {
      "text/plain": [
       "{'AC/DC', 'Back in Black'}"
      ]
     },
     "execution_count": 16,
     "metadata": {},
     "output_type": "execute_result"
    }
   ],
   "source": [
    "# we can find the intersection of 2 sets using the &:\n",
    "intersection = album_set1 & album_set2\n",
    "intersection"
   ]
  },
  {
   "cell_type": "markdown",
   "id": "b16229db-eeab-4089-b0e3-d186f0d9bc83",
   "metadata": {},
   "source": [
    "we can find all the elements that are only contained in <code>album_set1</code> using the <code>difference</code> method:"
   ]
  },
  {
   "cell_type": "code",
   "execution_count": 17,
   "id": "14df81bf-73a2-49bc-b6c6-069c36c4cae9",
   "metadata": {},
   "outputs": [
    {
     "data": {
      "text/plain": [
       "{'Thriller'}"
      ]
     },
     "execution_count": 17,
     "metadata": {},
     "output_type": "execute_result"
    }
   ],
   "source": [
    "album_set1.difference(album_set2)"
   ]
  },
  {
   "cell_type": "markdown",
   "id": "87f79bb4-a190-4b82-a804-8be5a6f9fad6",
   "metadata": {},
   "source": [
    "we can find all the elements that are only contained in <code>album_set2</code> using the <code>difference</code> method:"
   ]
  },
  {
   "cell_type": "code",
   "execution_count": 18,
   "id": "56601a67-6653-4a33-b892-36a0abbb5644",
   "metadata": {},
   "outputs": [
    {
     "data": {
      "text/plain": [
       "{'The Dark Side of the Moon'}"
      ]
     },
     "execution_count": 18,
     "metadata": {},
     "output_type": "execute_result"
    }
   ],
   "source": [
    "album_set2.difference(album_set1)"
   ]
  },
  {
   "cell_type": "markdown",
   "id": "b240da52-681f-4bcf-9755-86eb8a94945c",
   "metadata": {},
   "source": [
    "we can also find the intersection of <code>album_set1</code> and <code>album_set2</code> using the <code>intersection</code> method:"
   ]
  },
  {
   "cell_type": "code",
   "execution_count": 19,
   "id": "19036d7f-65b7-4546-8252-5dcc58aff9d1",
   "metadata": {},
   "outputs": [
    {
     "data": {
      "text/plain": [
       "{'AC/DC', 'Back in Black'}"
      ]
     },
     "execution_count": 19,
     "metadata": {},
     "output_type": "execute_result"
    }
   ],
   "source": [
    "album_set1.intersection(album_set2)"
   ]
  },
  {
   "cell_type": "code",
   "execution_count": 20,
   "id": "c0e7739e-ef77-4441-882a-dcba5443b706",
   "metadata": {},
   "outputs": [
    {
     "data": {
      "text/plain": [
       "{'AC/DC', 'Back in Black', 'The Dark Side of the Moon', 'Thriller'}"
      ]
     },
     "execution_count": 20,
     "metadata": {},
     "output_type": "execute_result"
    }
   ],
   "source": [
    "# the union of the 2 sets is given by:\n",
    "album_set1.union(album_set2)"
   ]
  },
  {
   "cell_type": "markdown",
   "id": "81cb20be-4d81-4fe6-9f1b-ea41dae3025c",
   "metadata": {},
   "source": [
    "And we can check if a set is a superset or subset of another set, respectively, as follows:"
   ]
  },
  {
   "cell_type": "code",
   "execution_count": 21,
   "id": "ee1f1843-6b8f-40f6-abaa-8f832d2b43da",
   "metadata": {},
   "outputs": [
    {
     "data": {
      "text/plain": [
       "False"
      ]
     },
     "execution_count": 21,
     "metadata": {},
     "output_type": "execute_result"
    }
   ],
   "source": [
    "# check if superset\n",
    "set(album_set2).issuperset(album_set1)"
   ]
  },
  {
   "cell_type": "code",
   "execution_count": 22,
   "id": "872d9048-adb5-44b8-9d61-1d14e46f3023",
   "metadata": {},
   "outputs": [
    {
     "data": {
      "text/plain": [
       "True"
      ]
     },
     "execution_count": 22,
     "metadata": {},
     "output_type": "execute_result"
    }
   ],
   "source": [
    "#check if is subset\n",
    "set({\"Back in Black\", \"AC/DC\"}).issubset(album_set2)"
   ]
  },
  {
   "cell_type": "code",
   "execution_count": 23,
   "id": "73a1b17b-47f0-42d2-82dd-ee56903a53c7",
   "metadata": {},
   "outputs": [
    {
     "data": {
      "text/plain": [
       "True"
      ]
     },
     "execution_count": 23,
     "metadata": {},
     "output_type": "execute_result"
    }
   ],
   "source": [
    "#check if superset\n",
    "album_set1.issuperset({\"Back in Black\", \"AC/DC\"})"
   ]
  },
  {
   "cell_type": "markdown",
   "id": "1c18ab22-7caa-460c-8462-44c172f7bd4a",
   "metadata": {},
   "source": [
    "### Exercise"
   ]
  },
  {
   "cell_type": "code",
   "execution_count": 24,
   "id": "3e3c5ffb-7b35-4f8a-a889-b7dcb4492081",
   "metadata": {},
   "outputs": [
    {
     "data": {
      "text/plain": [
       "{'electronic music', 'house', 'rap'}"
      ]
     },
     "execution_count": 24,
     "metadata": {},
     "output_type": "execute_result"
    }
   ],
   "source": [
    "#Convert the below list to a set:\n",
    "set(['rap','house','electronic music','rap'])"
   ]
  },
  {
   "cell_type": "code",
   "execution_count": 27,
   "id": "a8ac5f9f-1450-4cff-b9ce-e24321fbb51c",
   "metadata": {},
   "outputs": [
    {
     "name": "stdout",
     "output_type": "stream",
     "text": [
      "The sum of A is: 6\n",
      "The sum of B is: 3\n"
     ]
    }
   ],
   "source": [
    "A = [1, 2, 2, 1]\n",
    "B = set([1, 2, 2, 1])\n",
    "print(\"The sum of A is:\", sum(A))\n",
    "print(\"The sum of B is:\", sum(B))"
   ]
  },
  {
   "cell_type": "code",
   "execution_count": 28,
   "id": "80868415-6f15-400d-8eeb-3e6eca0f0bab",
   "metadata": {},
   "outputs": [
    {
     "data": {
      "text/plain": [
       "{'AC/DC', 'Back in Black', 'The Dark Side of the Moon', 'Thriller'}"
      ]
     },
     "execution_count": 28,
     "metadata": {},
     "output_type": "execute_result"
    }
   ],
   "source": [
    "album_set3 = album_set1.union(album_set2)\n",
    "album_set3"
   ]
  },
  {
   "cell_type": "code",
   "execution_count": 32,
   "id": "48549d06-7698-42c0-ae91-4d3b7a663715",
   "metadata": {},
   "outputs": [
    {
     "name": "stdout",
     "output_type": "stream",
     "text": [
      "{'AC/DC', 'Thriller', 'Back in Black'}\n",
      "{'AC/DC', 'Back in Black', 'The Dark Side of the Moon'}\n"
     ]
    }
   ],
   "source": [
    "print(album_set1)\n",
    "print(album_set2)"
   ]
  },
  {
   "cell_type": "code",
   "execution_count": 38,
   "id": "deb000e4-fa0f-4569-ba95-0701ec0a07c5",
   "metadata": {},
   "outputs": [
    {
     "data": {
      "text/plain": [
       "True"
      ]
     },
     "execution_count": 38,
     "metadata": {},
     "output_type": "execute_result"
    }
   ],
   "source": [
    "# find out if album_set1 is a subset of album_set2\n",
    "album_set1.issubset(album_set3)"
   ]
  },
  {
   "cell_type": "code",
   "execution_count": null,
   "id": "48686b1d-81e5-4be7-b9d7-db1a5f470554",
   "metadata": {},
   "outputs": [],
   "source": []
  }
 ],
 "metadata": {
  "kernelspec": {
   "display_name": "Python 3",
   "language": "python",
   "name": "python3"
  },
  "language_info": {
   "codemirror_mode": {
    "name": "ipython",
    "version": 3
   },
   "file_extension": ".py",
   "mimetype": "text/x-python",
   "name": "python",
   "nbconvert_exporter": "python",
   "pygments_lexer": "ipython3",
   "version": "3.8.8"
  }
 },
 "nbformat": 4,
 "nbformat_minor": 5
}

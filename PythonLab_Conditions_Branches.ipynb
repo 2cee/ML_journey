{
 "cells": [
  {
   "cell_type": "markdown",
   "id": "f1b4fdba-6241-4541-b56e-06895c2adb02",
   "metadata": {},
   "source": [
    "## Condition statements and branches\n",
    "Branching allows us to run different statements for different inputs. It is helpful to think of an if statement as a locked room, if the statement is True we can enter the room and your program will run some predefined tasks, but if the statement is False the program will ignore the task"
   ]
  },
  {
   "cell_type": "code",
   "execution_count": 13,
   "id": "a42c58f9-be50-481c-85d6-e9e5794e659a",
   "metadata": {},
   "outputs": [
    {
     "name": "stdout",
     "output_type": "stream",
     "text": [
      "Please go home!\n"
     ]
    }
   ],
   "source": [
    "# if, elif & else statement example\n",
    "\n",
    "age = 15\n",
    "\n",
    "if (age>18):\n",
    "    print(\"You can enter club\")\n",
    "elif (age==18):\n",
    "    print(\"You can enter casino\")\n",
    "else:\n",
    "    print(\"Please go home!\")\n"
   ]
  },
  {
   "cell_type": "code",
   "execution_count": 14,
   "id": "c420cd1f-03b9-4b5a-b62b-25b39a61ffd3",
   "metadata": {},
   "outputs": [
    {
     "name": "stdout",
     "output_type": "stream",
     "text": [
      "Album_year is between 1980 and 1989\n",
      "\n",
      "do staff...\n"
     ]
    }
   ],
   "source": [
    "# condition statement example\n",
    "album_year = 1980\n",
    "if(album_year>1979 and album_year<1990):\n",
    "    print(\"Album_year is between 1980 and 1989\")\n",
    "print(\"\")    # this inserts a blank line/skips a line between statements\n",
    "print(\"do staff...\")"
   ]
  },
  {
   "cell_type": "code",
   "execution_count": 16,
   "id": "228af554-921b-4221-a0d0-00f2507933f7",
   "metadata": {},
   "outputs": [
    {
     "name": "stdout",
     "output_type": "stream",
     "text": [
      "Album was not made in the 1980's\n"
     ]
    }
   ],
   "source": [
    "album_year = 1992\n",
    "if(album_year<1979 or album_year>1990):\n",
    "    print(\"Album was not made in the 1980's\")\n",
    "else:\n",
    "    print(\"Album was made in the 1980's\")"
   ]
  },
  {
   "cell_type": "markdown",
   "id": "0b216e2f-8602-47d6-8ce9-7ace54137cb8",
   "metadata": {},
   "source": [
    "## Exercice"
   ]
  },
  {
   "cell_type": "markdown",
   "id": "f444e934-5e2d-4acb-9c1e-508873984bb1",
   "metadata": {},
   "source": [
    "1. Write an if statement to determine if an album had a rating greater than 8. Test it using the rating for the album “Back in Black” that had a rating of 8.5. If the statement is true print \"This album is Amazing!\""
   ]
  },
  {
   "cell_type": "code",
   "execution_count": 27,
   "id": "c484abfd-2442-43d0-8ed8-245844eee04f",
   "metadata": {},
   "outputs": [
    {
     "name": "stdout",
     "output_type": "stream",
     "text": [
      "This album is amazing!\n"
     ]
    }
   ],
   "source": [
    "album_rating = 9\n",
    "if (album_rating>8):\n",
    "    print(\"This album is amazing!\")\n",
    "else:\n",
    "    print(\"This album is okay\")"
   ]
  },
  {
   "cell_type": "markdown",
   "id": "89099790-c550-4905-8029-db76c35cccfa",
   "metadata": {},
   "source": [
    "2. Write an if statement to determine if an album came out before 1980 or in the years: 1991 or 1993. If the condition is true print out the year the album came out."
   ]
  },
  {
   "cell_type": "code",
   "execution_count": 40,
   "id": "3034b70b-30f7-4ae0-af60-fa55e9319851",
   "metadata": {},
   "outputs": [
    {
     "name": "stdout",
     "output_type": "stream",
     "text": [
      "This album came out in 1960\n"
     ]
    }
   ],
   "source": [
    "album_year = 1960\n",
    "\n",
    "if (album_year < 1980 or album_year == 1991 or album_year == 1993):\n",
    "  print(\"This album came out in\",album_year)\n",
    "\n",
    "   "
   ]
  },
  {
   "cell_type": "code",
   "execution_count": null,
   "id": "7459a080-ab82-4a62-b673-f6ba80291e54",
   "metadata": {},
   "outputs": [],
   "source": []
  }
 ],
 "metadata": {
  "kernelspec": {
   "display_name": "Python 3",
   "language": "python",
   "name": "python3"
  },
  "language_info": {
   "codemirror_mode": {
    "name": "ipython",
    "version": 3
   },
   "file_extension": ".py",
   "mimetype": "text/x-python",
   "name": "python",
   "nbconvert_exporter": "python",
   "pygments_lexer": "ipython3",
   "version": "3.8.8"
  }
 },
 "nbformat": 4,
 "nbformat_minor": 5
}

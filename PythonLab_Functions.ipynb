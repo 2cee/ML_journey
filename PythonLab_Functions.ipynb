{
 "cells": [
  {
   "cell_type": "markdown",
   "id": "088cf63c-4dc2-47b3-bbc7-0db54be43257",
   "metadata": {},
   "source": [
    "# Functions\n",
    "A function is a reusable block of code which performs operations specified in the function. They let you break down tasks and allow you to reuse your code in different programs."
   ]
  },
  {
   "cell_type": "code",
   "execution_count": 8,
   "id": "7790fe40-5891-4dcf-932d-f29e2277fc92",
   "metadata": {},
   "outputs": [
    {
     "data": {
      "text/plain": [
       "9"
      ]
     },
     "execution_count": 8,
     "metadata": {},
     "output_type": "execute_result"
    }
   ],
   "source": [
    "# First function example that adds 1 to parameter a and then stores the result in b. \n",
    "def plus(a):\n",
    "    b = a + 1\n",
    "    return b\n",
    "plus(8)"
   ]
  },
  {
   "cell_type": "code",
   "execution_count": 11,
   "id": "5139ba08-3921-4bc8-83c7-7ec7da6c3425",
   "metadata": {},
   "outputs": [
    {
     "name": "stdout",
     "output_type": "stream",
     "text": [
      "Help on function plus in module __main__:\n",
      "\n",
      "plus(a)\n",
      "    # First function example that adds 1 to parameter a and then stores the result in b.\n",
      "\n"
     ]
    }
   ],
   "source": [
    "help(plus)"
   ]
  },
  {
   "cell_type": "code",
   "execution_count": 12,
   "id": "96567671-f7a3-4325-9b47-d00930cc0510",
   "metadata": {},
   "outputs": [
    {
     "name": "stdout",
     "output_type": "stream",
     "text": [
      "15\n"
     ]
    }
   ],
   "source": [
    "# Function that multiplies 2 numbers together and returns the product\n",
    "def mult(a,b):\n",
    "    c = a*b\n",
    "    return(c)\n",
    "print(mult(5,3))"
   ]
  },
  {
   "cell_type": "code",
   "execution_count": 13,
   "id": "baace232-3239-4340-b602-91f737744d5c",
   "metadata": {},
   "outputs": [
    {
     "name": "stdout",
     "output_type": "stream",
     "text": [
      "Help on function mult in module __main__:\n",
      "\n",
      "mult(a, b)\n",
      "    # Function that multiplies 2 numbers together and returns the product\n",
      "\n"
     ]
    }
   ],
   "source": [
    "help(mult)"
   ]
  },
  {
   "cell_type": "code",
   "execution_count": 14,
   "id": "8c6f27d6-9717-4af9-8df6-91a3217d234a",
   "metadata": {},
   "outputs": [
    {
     "data": {
      "text/plain": [
       "75.0"
      ]
     },
     "execution_count": 14,
     "metadata": {},
     "output_type": "execute_result"
    }
   ],
   "source": [
    "mult(30,2.5)"
   ]
  },
  {
   "cell_type": "code",
   "execution_count": 15,
   "id": "6f4ff2ed-267b-419f-b055-11a18eabec90",
   "metadata": {},
   "outputs": [
    {
     "data": {
      "text/plain": [
       "5"
      ]
     },
     "execution_count": 15,
     "metadata": {},
     "output_type": "execute_result"
    }
   ],
   "source": [
    "plus(4)"
   ]
  },
  {
   "cell_type": "code",
   "execution_count": 16,
   "id": "3165c7e5-103f-43f4-99b1-81484ddf8989",
   "metadata": {},
   "outputs": [
    {
     "data": {
      "text/plain": [
       "'lulululululu'"
      ]
     },
     "execution_count": 16,
     "metadata": {},
     "output_type": "execute_result"
    }
   ],
   "source": [
    "mult(\"lulu\",3)"
   ]
  },
  {
   "cell_type": "markdown",
   "id": "f1b67e07-f852-45fb-aa9e-c40bf42ea091",
   "metadata": {},
   "source": [
    "## Variables\n",
    "A variable that is declared inside a function is called a local variable. The parameter only exists within the function (i.e. the point where the function starts and stops).\n",
    "\n",
    "A variable that is declared outside a function definition is a global variable, and its value is accessible and modifiable throughout the program"
   ]
  },
  {
   "cell_type": "code",
   "execution_count": 20,
   "id": "25cacdcd-c99f-44bc-a303-2de086c4b8bd",
   "metadata": {},
   "outputs": [
    {
     "name": "stdout",
     "output_type": "stream",
     "text": [
      "if you square 10 and add 1 you get: 101\n"
     ]
    }
   ],
   "source": [
    "def square(a):\n",
    "    b = 1       #local variable\n",
    "    c = a * a + b\n",
    "    print(\"if you square\",a, \"and add 1 you get:\",c)\n",
    "    return(c)\n",
    "# we can call the function with an input of 10\n",
    "x = 10          # global variable\n",
    "z = square(x)"
   ]
  },
  {
   "cell_type": "code",
   "execution_count": 21,
   "id": "5294f685-d9aa-4f8b-9a09-b3abe6142a14",
   "metadata": {},
   "outputs": [
    {
     "name": "stdout",
     "output_type": "stream",
     "text": [
      "if you square 3 and add 1 you get: 10\n"
     ]
    },
    {
     "data": {
      "text/plain": [
       "10"
      ]
     },
     "execution_count": 21,
     "metadata": {},
     "output_type": "execute_result"
    }
   ],
   "source": [
    "square(3)"
   ]
  },
  {
   "cell_type": "code",
   "execution_count": 24,
   "id": "46ca1caa-ea4c-4b7b-9a73-3346f1afcb29",
   "metadata": {},
   "outputs": [
    {
     "name": "stdout",
     "output_type": "stream",
     "text": [
      "heyyou!\n"
     ]
    }
   ],
   "source": [
    "def comb(a , b):\n",
    "    c = a + b\n",
    "    return(c)\n",
    "print(comb(\"hey\", \"you!\"))\n"
   ]
  },
  {
   "cell_type": "code",
   "execution_count": 26,
   "id": "3c55539d-63fc-458f-8e84-0fde6820086a",
   "metadata": {},
   "outputs": [
    {
     "name": "stdout",
     "output_type": "stream",
     "text": [
      "Michael Jackson Thriller 1982\n",
      "modern\n"
     ]
    }
   ],
   "source": [
    "# Function example\n",
    "def type_of_album(artist, album, year_released):\n",
    "    print(artist, album, year_released)\n",
    "    if year_released > 1980:\n",
    "        return \"modern\"\n",
    "    else:\n",
    "        return \"oldie\"\n",
    "x = type_of_album(\"Michael Jackson\", \"Thriller\", 1982)\n",
    "print(x)"
   ]
  },
  {
   "cell_type": "code",
   "execution_count": 28,
   "id": "ef8b87ea-fd64-4dce-a56b-0ef93b97a3cc",
   "metadata": {},
   "outputs": [
    {
     "name": "stdout",
     "output_type": "stream",
     "text": [
      "1\n",
      "1\n",
      "the man\n",
      "abc\n",
      "beautiful girl\n"
     ]
    }
   ],
   "source": [
    "# print the list using for loop and function\n",
    "def print_list(the_list):\n",
    "    for i in the_list:\n",
    "        print(i)\n",
    "print_list(['1',1,'the man', \"abc\", \"beautiful girl\"])"
   ]
  },
  {
   "cell_type": "code",
   "execution_count": 32,
   "id": "2fb3ad61-a610-407f-8fad-ddc2c1f6bcf7",
   "metadata": {},
   "outputs": [
    {
     "name": "stdout",
     "output_type": "stream",
     "text": [
      "This album is boss! Tts rating is: 9\n"
     ]
    }
   ],
   "source": [
    "# example for setting a parameter with default value\n",
    "def isgoodrating(rating = 4):\n",
    "    if (rating < 7):\n",
    "        print(\"This album sucks! Tts rating is:\", rating)\n",
    "    else:\n",
    "        print(\"This album is boss! Tts rating is:\",rating)\n",
    "isgoodrating(9)"
   ]
  },
  {
   "cell_type": "code",
   "execution_count": 34,
   "id": "eba09af8-b6e8-4762-a0ea-9434e0522b94",
   "metadata": {},
   "outputs": [
    {
     "name": "stdout",
     "output_type": "stream",
     "text": [
      "Michael Jackson is an artist\n",
      "J Lo is an artist\n"
     ]
    }
   ],
   "source": [
    "# Local variables cannot be used outside the function the are defined in unless we make them global as shown below\n",
    "artist = \"Michael Jackson\"    #global var\n",
    "def printer(artist):\n",
    "    global local_var\n",
    "    local_var = \"J Lo\"\n",
    "    print(artist, \"is an artist\")\n",
    "printer(artist)\n",
    "printer(local_var)"
   ]
  },
  {
   "cell_type": "code",
   "execution_count": null,
   "id": "769b5336-7975-4608-9da1-3df10737a20b",
   "metadata": {},
   "outputs": [],
   "source": []
  }
 ],
 "metadata": {
  "kernelspec": {
   "display_name": "Python 3",
   "language": "python",
   "name": "python3"
  },
  "language_info": {
   "codemirror_mode": {
    "name": "ipython",
    "version": 3
   },
   "file_extension": ".py",
   "mimetype": "text/x-python",
   "name": "python",
   "nbconvert_exporter": "python",
   "pygments_lexer": "ipython3",
   "version": "3.8.8"
  }
 },
 "nbformat": 4,
 "nbformat_minor": 5
}

{
 "cells": [
  {
   "cell_type": "markdown",
   "id": "de5cd5d0-85b8-49d3-b7bd-6efd8df29a27",
   "metadata": {},
   "source": [
    "# Lists\n",
    "A list is a sequenced collection of different objects such as integers, strings, and even other lists as well. The address of each element within a list is called an index. An index is used to access and refer to items within a list."
   ]
  },
  {
   "cell_type": "code",
   "execution_count": 13,
   "id": "5548dafe-94b7-4db5-9c60-84466ff25939",
   "metadata": {},
   "outputs": [],
   "source": [
    "#create example list\n",
    "\n",
    "List = [\"Michael jackson\", 10.1,1990]"
   ]
  },
  {
   "cell_type": "code",
   "execution_count": 14,
   "id": "39c6d280-8419-46fb-99ee-7f131de20153",
   "metadata": {},
   "outputs": [
    {
     "data": {
      "text/plain": [
       "3"
      ]
     },
     "execution_count": 14,
     "metadata": {},
     "output_type": "execute_result"
    }
   ],
   "source": [
    "len(List)"
   ]
  },
  {
   "cell_type": "code",
   "execution_count": 21,
   "id": "9c546781-84b3-4793-82b1-b4ca12e584a5",
   "metadata": {},
   "outputs": [],
   "source": [
    "#delete an element in the list\n",
    "del(List[3])"
   ]
  },
  {
   "cell_type": "code",
   "execution_count": 18,
   "id": "63dbb4ac-8bf1-468f-aa71-320380f46717",
   "metadata": {},
   "outputs": [],
   "source": [
    "List.extend([\"orange\",\"Liverpool\"])"
   ]
  },
  {
   "cell_type": "code",
   "execution_count": 22,
   "id": "ea8b3b86-8926-4f47-a342-2435dc3bf33f",
   "metadata": {},
   "outputs": [
    {
     "name": "stdout",
     "output_type": "stream",
     "text": [
      "['Michael jackson', 10.1, 1990, 'orange', 'Liverpool']\n"
     ]
    }
   ],
   "source": [
    "print(List)"
   ]
  },
  {
   "cell_type": "code",
   "execution_count": 23,
   "id": "a1c2e220-347f-4b95-a2ba-aea1f7242bd1",
   "metadata": {},
   "outputs": [
    {
     "data": {
      "text/plain": [
       "['hard', 'rock']"
      ]
     },
     "execution_count": 23,
     "metadata": {},
     "output_type": "execute_result"
    }
   ],
   "source": [
    "\"hard rock\".split()"
   ]
  },
  {
   "cell_type": "markdown",
   "id": "5d2e9321-b674-4f78-b369-85774cf7133d",
   "metadata": {},
   "source": [
    "## Copy & Clone List\n",
    "When we set one variable B equal to A, both A and B are referencing the same list in memory:"
   ]
  },
  {
   "cell_type": "code",
   "execution_count": 39,
   "id": "b890a990-2606-4966-99c7-9498aaece72d",
   "metadata": {},
   "outputs": [],
   "source": [
    "A = [\"Guava\", \"Jerry\", 150]\n",
    "# clone List A into B\n",
    "B = A[:]"
   ]
  },
  {
   "cell_type": "code",
   "execution_count": 40,
   "id": "27d8a883-7b3c-424f-b369-29ba5de7bbb4",
   "metadata": {},
   "outputs": [
    {
     "data": {
      "text/plain": [
       "['Tomato', 'Jerry', 150]"
      ]
     },
     "execution_count": 40,
     "metadata": {},
     "output_type": "execute_result"
    }
   ],
   "source": [
    "A\n"
   ]
  },
  {
   "cell_type": "code",
   "execution_count": 41,
   "id": "e9d67bed-b95e-413b-9bb1-b69101ecc255",
   "metadata": {},
   "outputs": [
    {
     "data": {
      "text/plain": [
       "['Tomato', 'Jerry', 150]"
      ]
     },
     "execution_count": 41,
     "metadata": {},
     "output_type": "execute_result"
    }
   ],
   "source": [
    "B"
   ]
  },
  {
   "cell_type": "markdown",
   "id": "48d75ebe-1a9b-4c05-8495-a8022a95d500",
   "metadata": {},
   "source": [
    "# Tuples\n",
    "A tuple is also an ordered sequence but unlike lists, tuples are immutable (cannot be changed)."
   ]
  },
  {
   "cell_type": "code",
   "execution_count": 51,
   "id": "16b6c56e-0446-411d-9e0c-4590c9c1f65d",
   "metadata": {},
   "outputs": [
    {
     "data": {
      "text/plain": [
       "('disco', 10, 1.2, 'hard rock', 44)"
      ]
     },
     "execution_count": 51,
     "metadata": {},
     "output_type": "execute_result"
    }
   ],
   "source": [
    "# create your first tuple\n",
    "tuple1 = (\"disco\", 10, 1.2, \"hard rock\", 44)\n",
    "tuple1"
   ]
  },
  {
   "cell_type": "code",
   "execution_count": 44,
   "id": "bcb26d93-9a22-4edb-9fa7-38dc3898eae8",
   "metadata": {},
   "outputs": [
    {
     "data": {
      "text/plain": [
       "tuple"
      ]
     },
     "execution_count": 44,
     "metadata": {},
     "output_type": "execute_result"
    }
   ],
   "source": [
    "type(tuple1)"
   ]
  },
  {
   "cell_type": "code",
   "execution_count": 49,
   "id": "21df31a4-aaa0-4c56-b587-cbb0a991571f",
   "metadata": {},
   "outputs": [
    {
     "name": "stdout",
     "output_type": "stream",
     "text": [
      "<class 'float'>\n"
     ]
    }
   ],
   "source": [
    "print(type(tuple1[2]))"
   ]
  },
  {
   "cell_type": "code",
   "execution_count": 50,
   "id": "66ec7013-77c2-4ba1-af9a-96b9b01b34e7",
   "metadata": {},
   "outputs": [
    {
     "data": {
      "text/plain": [
       "1.2"
      ]
     },
     "execution_count": 50,
     "metadata": {},
     "output_type": "execute_result"
    }
   ],
   "source": [
    "tuple1[-1]"
   ]
  },
  {
   "cell_type": "code",
   "execution_count": 1,
   "id": "abbeab14-faa4-4661-95e9-85874987f5ff",
   "metadata": {},
   "outputs": [
    {
     "name": "stdout",
     "output_type": "stream",
     "text": [
      "4\n"
     ]
    }
   ],
   "source": [
    "A = ((1), [2,3], [4])\n",
    "print(A[2][0])"
   ]
  },
  {
   "cell_type": "markdown",
   "id": "5b46a246-f822-4138-8c86-777f824aa333",
   "metadata": {},
   "source": [
    "### Slicing\n",
    "We can slice tuples, obtaining new tuples with the corresponding elements:"
   ]
  },
  {
   "cell_type": "code",
   "execution_count": 52,
   "id": "d3848973-3dff-468c-ad5f-dbffcfc019d0",
   "metadata": {},
   "outputs": [
    {
     "data": {
      "text/plain": [
       "('hard rock', 44)"
      ]
     },
     "execution_count": 52,
     "metadata": {},
     "output_type": "execute_result"
    }
   ],
   "source": [
    "tuple1[3:5]"
   ]
  },
  {
   "cell_type": "code",
   "execution_count": 53,
   "id": "bb964d0f-53c6-4545-b130-ffb50d62719f",
   "metadata": {},
   "outputs": [
    {
     "data": {
      "text/plain": [
       "5"
      ]
     },
     "execution_count": 53,
     "metadata": {},
     "output_type": "execute_result"
    }
   ],
   "source": [
    "#get the length of the tuple\n",
    "len(tuple1)"
   ]
  },
  {
   "cell_type": "markdown",
   "id": "2ac492f1-1a51-41cf-812f-170d631bd2a1",
   "metadata": {},
   "source": [
    "### Sorting\n",
    "We can sort the values in a tuple and save it to a new tuple\n"
   ]
  },
  {
   "cell_type": "code",
   "execution_count": 54,
   "id": "724d26af-94e9-4e0a-957c-e206aecc8127",
   "metadata": {},
   "outputs": [],
   "source": [
    "scores = (0, 9, 6, 5, 10, 8, 9, 6, 2) "
   ]
  },
  {
   "cell_type": "code",
   "execution_count": 56,
   "id": "61cd335f-6e7d-4a53-a8a9-6919d9a80c61",
   "metadata": {},
   "outputs": [
    {
     "data": {
      "text/plain": [
       "[0, 2, 5, 6, 6, 8, 9, 9, 10]"
      ]
     },
     "execution_count": 56,
     "metadata": {},
     "output_type": "execute_result"
    }
   ],
   "source": [
    "scores_sorted = sorted(scores)\n",
    "scores_sorted"
   ]
  },
  {
   "cell_type": "markdown",
   "id": "ecb3f684-4ea9-4946-8484-cb6154e01d2c",
   "metadata": {},
   "source": [
    "### Spliting"
   ]
  },
  {
   "cell_type": "code",
   "execution_count": 57,
   "id": "73b79607-79c3-4f91-a4ee-8695adf2b234",
   "metadata": {},
   "outputs": [
    {
     "data": {
      "text/plain": [
       "['Hello', 'Mike']"
      ]
     },
     "execution_count": 57,
     "metadata": {},
     "output_type": "execute_result"
    }
   ],
   "source": [
    "\"Hello Mike\".split()"
   ]
  },
  {
   "cell_type": "code",
   "execution_count": null,
   "id": "82c320c0-7af6-4fb9-a8a9-a6e51f288366",
   "metadata": {},
   "outputs": [],
   "source": []
  }
 ],
 "metadata": {
  "kernelspec": {
   "display_name": "Python 3",
   "language": "python",
   "name": "python3"
  },
  "language_info": {
   "codemirror_mode": {
    "name": "ipython",
    "version": 3
   },
   "file_extension": ".py",
   "mimetype": "text/x-python",
   "name": "python",
   "nbconvert_exporter": "python",
   "pygments_lexer": "ipython3",
   "version": "3.8.8"
  }
 },
 "nbformat": 4,
 "nbformat_minor": 5
}
